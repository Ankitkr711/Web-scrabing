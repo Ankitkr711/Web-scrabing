{
 "cells": [
  {
   "cell_type": "code",
   "execution_count": 2,
   "metadata": {},
   "outputs": [],
   "source": [
    "from bs4 import BeautifulSoup\n",
    "import requests\n",
    "page=requests.get(\"https://bookpage.com/reviews\") \n",
    "soup=BeautifulSoup(page.text,\"html.parser\")\n",
    "\n",
    "\n"
   ]
  },
  {
   "cell_type": "code",
   "execution_count": 7,
   "metadata": {},
   "outputs": [],
   "source": [
    "Name=[]\n",
    "Author=[]\n",
    "Genere=[]\n",
    "for i in soup.find_all('div', attrs={'class':'flex-article-content'}):\n",
    "    n=i.find(\"h4\").text.replace(\"\\n\",\"\")\n",
    "    Name.append(n)\n",
    "    au=i.find('p', attrs={'class':'sans bold'}).text.replace(\"\\n\",\"\")\n",
    "    Author.append(au)\n",
    "    ge=i.find('p', attrs={'class':'genre-links hidden-phone'}).text.replace(\"\\n\",\"\")\n",
    "    Genere.append(ge)\n",
    "    \n"
   ]
  },
  {
   "cell_type": "code",
   "execution_count": 9,
   "metadata": {},
   "outputs": [],
   "source": [
    "Name=Name[0:5]\n",
    "Author=Author[0:5]\n",
    "Genere=Genere[0:5]"
   ]
  },
  {
   "cell_type": "code",
   "execution_count": 10,
   "metadata": {},
   "outputs": [
    {
     "data": {
      "text/plain": [
       "['Ancestor Approved',\n",
       " ' ★ The Midnight Fair',\n",
       " ' ★ City of the Uncommon Thief',\n",
       " 'How the One-Armed Sister Sweeps Her House',\n",
       " 'Super Host']"
      ]
     },
     "execution_count": 10,
     "metadata": {},
     "output_type": "execute_result"
    }
   ],
   "source": [
    "Name"
   ]
  },
  {
   "cell_type": "code",
   "execution_count": 15,
   "metadata": {},
   "outputs": [],
   "source": [
    "page1=requests.get(\"https://bookpage.com/reviews/25951-cynthia-leitich-smith-ancestor-approved-childrens#.YCEI-ehKjIU\")"
   ]
  },
  {
   "cell_type": "code",
   "execution_count": 16,
   "metadata": {},
   "outputs": [],
   "source": [
    "soup1=BeautifulSoup(page1.text, \"html.parser\")"
   ]
  },
  {
   "cell_type": "code",
   "execution_count": 17,
   "metadata": {},
   "outputs": [],
   "source": [
    "page2=requests.get(\"https://bookpage.com/reviews/25949-gideon-sterer-midnight-fair-childrens#.YCEJWOhKjIU\")"
   ]
  },
  {
   "cell_type": "code",
   "execution_count": 18,
   "metadata": {},
   "outputs": [],
   "source": [
    "soup2=BeautifulSoup(page2.text, \"html.parser\")"
   ]
  },
  {
   "cell_type": "code",
   "execution_count": 23,
   "metadata": {},
   "outputs": [],
   "source": [
    "page5=requests.get(\"https://bookpage.com/reviews/25140-kate-russo-super-host-fiction#.YCEJgehKjIU\")"
   ]
  },
  {
   "cell_type": "code",
   "execution_count": 24,
   "metadata": {},
   "outputs": [],
   "source": [
    "soup5=BeautifulSoup(page5.text, \"html.parser\")"
   ]
  },
  {
   "cell_type": "code",
   "execution_count": 25,
   "metadata": {},
   "outputs": [],
   "source": [
    "page4=requests.get(\"https://bookpage.com/reviews/25880-cherie-jones-how-one-armed-sister-sweeps-her-house-fiction#.YBz5zuhKjIU\")"
   ]
  },
  {
   "cell_type": "code",
   "execution_count": 26,
   "metadata": {},
   "outputs": [],
   "source": [
    "soup4=BeautifulSoup(page4.text, \"html.parser\")"
   ]
  },
  {
   "cell_type": "code",
   "execution_count": 28,
   "metadata": {
    "scrolled": true
   },
   "outputs": [],
   "source": [
    "page3=requests.get(\"https://bookpage.com/reviews/25937-lynne-bertrand-city-uncommon-thief-ya#.YCEJ8uhKjIU\")"
   ]
  },
  {
   "cell_type": "code",
   "execution_count": 29,
   "metadata": {},
   "outputs": [],
   "source": [
    "soup3=BeautifulSoup(page3.text, \"html.parser\")"
   ]
  },
  {
   "cell_type": "code",
   "execution_count": 36,
   "metadata": {},
   "outputs": [],
   "source": [
    "def review(soup):\n",
    "    book=soup.find(\"div\",class_='row-fluid book-details-hero')\n",
    "    review=soup.find('div',class_='article-body').get_text().replace('\\n','')\n",
    "    return review"
   ]
  },
  {
   "cell_type": "code",
   "execution_count": 41,
   "metadata": {},
   "outputs": [],
   "source": [
    "b1=review(soup1)\n",
    "b2=review(soup2)\n",
    "b3=review(soup3)\n",
    "b4=review(soup4)\n",
    "b5=review(soup5)"
   ]
  },
  {
   "cell_type": "code",
   "execution_count": 42,
   "metadata": {},
   "outputs": [],
   "source": [
    "Reviews=[b1,b2,b3,b4,b5]\n"
   ]
  },
  {
   "cell_type": "code",
   "execution_count": null,
   "metadata": {},
   "outputs": [],
   "source": []
  },
  {
   "cell_type": "code",
   "execution_count": 43,
   "metadata": {},
   "outputs": [],
   "source": [
    "data=list(zip(Name,Author,Genere,Reviews))"
   ]
  },
  {
   "cell_type": "code",
   "execution_count": 44,
   "metadata": {},
   "outputs": [],
   "source": [
    "import pandas as pd\n",
    "df=pd.DataFrame(data,columns=[\"Name\",\"Author\",\"Genere\",\"Reviews\"])"
   ]
  },
  {
   "cell_type": "code",
   "execution_count": 45,
   "metadata": {},
   "outputs": [
    {
     "data": {
      "text/html": [
       "<div>\n",
       "<style scoped>\n",
       "    .dataframe tbody tr th:only-of-type {\n",
       "        vertical-align: middle;\n",
       "    }\n",
       "\n",
       "    .dataframe tbody tr th {\n",
       "        vertical-align: top;\n",
       "    }\n",
       "\n",
       "    .dataframe thead th {\n",
       "        text-align: right;\n",
       "    }\n",
       "</style>\n",
       "<table border=\"1\" class=\"dataframe\">\n",
       "  <thead>\n",
       "    <tr style=\"text-align: right;\">\n",
       "      <th></th>\n",
       "      <th>Name</th>\n",
       "      <th>Author</th>\n",
       "      <th>Genere</th>\n",
       "      <th>Reviews</th>\n",
       "    </tr>\n",
       "  </thead>\n",
       "  <tbody>\n",
       "    <tr>\n",
       "      <th>0</th>\n",
       "      <td>Ancestor Approved</td>\n",
       "      <td>Cynthia Leitich Smith</td>\n",
       "      <td>Children's / Middle Grade</td>\n",
       "      <td>Ancestor Approved: Intertribal Stories for Kid...</td>\n",
       "    </tr>\n",
       "    <tr>\n",
       "      <th>1</th>\n",
       "      <td>★ The Midnight Fair</td>\n",
       "      <td>Gideon Sterer, Mariachiara Di Giorgio</td>\n",
       "      <td>Children's / Children's Picture Book</td>\n",
       "      <td>While some books light paths with their words,...</td>\n",
       "    </tr>\n",
       "    <tr>\n",
       "      <th>2</th>\n",
       "      <td>★ City of the Uncommon Thief</td>\n",
       "      <td>Lynne Bertrand</td>\n",
       "      <td>YA / YA Fiction</td>\n",
       "      <td>When you see “Relevant Maps” listed as the fir...</td>\n",
       "    </tr>\n",
       "    <tr>\n",
       "      <th>3</th>\n",
       "      <td>How the One-Armed Sister Sweeps Her House</td>\n",
       "      <td>Cherie Jones</td>\n",
       "      <td>Fiction / Literary Fiction</td>\n",
       "      <td>In her engrossing and darkly lyrical debut nov...</td>\n",
       "    </tr>\n",
       "    <tr>\n",
       "      <th>4</th>\n",
       "      <td>Super Host</td>\n",
       "      <td>Kate Russo</td>\n",
       "      <td>Fiction / Family Drama</td>\n",
       "      <td>Bennett Driscoll has what you might call a “Ta...</td>\n",
       "    </tr>\n",
       "  </tbody>\n",
       "</table>\n",
       "</div>"
      ],
      "text/plain": [
       "                                        Name  \\\n",
       "0                          Ancestor Approved   \n",
       "1                        ★ The Midnight Fair   \n",
       "2               ★ City of the Uncommon Thief   \n",
       "3  How the One-Armed Sister Sweeps Her House   \n",
       "4                                 Super Host   \n",
       "\n",
       "                                  Author  \\\n",
       "0                  Cynthia Leitich Smith   \n",
       "1  Gideon Sterer, Mariachiara Di Giorgio   \n",
       "2                         Lynne Bertrand   \n",
       "3                           Cherie Jones   \n",
       "4                             Kate Russo   \n",
       "\n",
       "                                 Genere  \\\n",
       "0             Children's / Middle Grade   \n",
       "1  Children's / Children's Picture Book   \n",
       "2                       YA / YA Fiction   \n",
       "3            Fiction / Literary Fiction   \n",
       "4                Fiction / Family Drama   \n",
       "\n",
       "                                             Reviews  \n",
       "0  Ancestor Approved: Intertribal Stories for Kid...  \n",
       "1  While some books light paths with their words,...  \n",
       "2  When you see “Relevant Maps” listed as the fir...  \n",
       "3  In her engrossing and darkly lyrical debut nov...  \n",
       "4  Bennett Driscoll has what you might call a “Ta...  "
      ]
     },
     "execution_count": 45,
     "metadata": {},
     "output_type": "execute_result"
    }
   ],
   "source": [
    "df"
   ]
  },
  {
   "cell_type": "code",
   "execution_count": null,
   "metadata": {},
   "outputs": [],
   "source": []
  }
 ],
 "metadata": {
  "kernelspec": {
   "display_name": "Python 3",
   "language": "python",
   "name": "python3"
  },
  "language_info": {
   "codemirror_mode": {
    "name": "ipython",
    "version": 3
   },
   "file_extension": ".py",
   "mimetype": "text/x-python",
   "name": "python",
   "nbconvert_exporter": "python",
   "pygments_lexer": "ipython3",
   "version": "3.8.3"
  }
 },
 "nbformat": 4,
 "nbformat_minor": 4
}
