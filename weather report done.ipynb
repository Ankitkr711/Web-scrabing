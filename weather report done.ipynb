{
 "cells": [
  {
   "cell_type": "code",
   "execution_count": 28,
   "metadata": {},
   "outputs": [],
   "source": [
    "from bs4 import BeautifulSoup\n",
    "import requests\n",
    "\n",
    "Weather=requests.get(\"https://forecast.weather.gov/MapClick.php?lat=37.777120000000025&lon=-122.41963999999996#.YB_1XGhLjIU\")\n",
    " "
   ]
  },
  {
   "cell_type": "code",
   "execution_count": 29,
   "metadata": {},
   "outputs": [],
   "source": [
    "soup=BeautifulSoup(Weather.text,\"html.parser\")\n",
    "Day=[]\n",
    "Description=[]\n",
    "for i in soup.find_all('div', attrs={'class':'row row-odd row-forecast'}):\n",
    "    Day.append(i.find('div', attrs={'class':'col-sm-2 forecast-label'}))\n",
    "    Description.append(i.find('div', attrs={'class':'col-sm-10 forecast-text'}))\n",
    "                       \n",
    "                       \n",
    "\n",
    "\n",
    "    \n",
    "    "
   ]
  },
  {
   "cell_type": "code",
   "execution_count": 30,
   "metadata": {},
   "outputs": [
    {
     "data": {
      "text/plain": [
       "<div class=\"row row-odd row-forecast\"><div class=\"col-sm-2 forecast-label\"><b>Today</b></div><div class=\"col-sm-10 forecast-text\">Sunny, with a high near 62. West northwest wind 3 to 6 mph. </div></div>"
      ]
     },
     "execution_count": 30,
     "metadata": {},
     "output_type": "execute_result"
    }
   ],
   "source": [
    "soup.find('div', attrs={'class':'row row-odd row-forecast'})\n"
   ]
  },
  {
   "cell_type": "code",
   "execution_count": 31,
   "metadata": {},
   "outputs": [],
   "source": [
    "data=list(zip(Day,Description))"
   ]
  },
  {
   "cell_type": "code",
   "execution_count": 32,
   "metadata": {},
   "outputs": [],
   "source": [
    "import pandas as pd\n",
    "df=pd.DataFrame(data,columns=[\"Day\",\"Description\"])"
   ]
  },
  {
   "cell_type": "code",
   "execution_count": 33,
   "metadata": {},
   "outputs": [
    {
     "data": {
      "text/html": [
       "<div>\n",
       "<style scoped>\n",
       "    .dataframe tbody tr th:only-of-type {\n",
       "        vertical-align: middle;\n",
       "    }\n",
       "\n",
       "    .dataframe tbody tr th {\n",
       "        vertical-align: top;\n",
       "    }\n",
       "\n",
       "    .dataframe thead th {\n",
       "        text-align: right;\n",
       "    }\n",
       "</style>\n",
       "<table border=\"1\" class=\"dataframe\">\n",
       "  <thead>\n",
       "    <tr style=\"text-align: right;\">\n",
       "      <th></th>\n",
       "      <th>Day</th>\n",
       "      <th>Description</th>\n",
       "    </tr>\n",
       "  </thead>\n",
       "  <tbody>\n",
       "    <tr>\n",
       "      <th>0</th>\n",
       "      <td>[[Today]]</td>\n",
       "      <td>[Sunny, with a high near 62. West northwest wi...</td>\n",
       "    </tr>\n",
       "    <tr>\n",
       "      <th>1</th>\n",
       "      <td>[[Monday]]</td>\n",
       "      <td>[Mostly cloudy, with a high near 58. Calm wind...</td>\n",
       "    </tr>\n",
       "    <tr>\n",
       "      <th>2</th>\n",
       "      <td>[[Tuesday]]</td>\n",
       "      <td>[Mostly cloudy, with a high near 58. West wind...</td>\n",
       "    </tr>\n",
       "    <tr>\n",
       "      <th>3</th>\n",
       "      <td>[[Wednesday]]</td>\n",
       "      <td>[Mostly sunny, with a high near 60.]</td>\n",
       "    </tr>\n",
       "    <tr>\n",
       "      <th>4</th>\n",
       "      <td>[[Thursday]]</td>\n",
       "      <td>[A chance of rain after 10am.  Mostly cloudy, ...</td>\n",
       "    </tr>\n",
       "    <tr>\n",
       "      <th>5</th>\n",
       "      <td>[[Friday]]</td>\n",
       "      <td>[A chance of rain.  Partly sunny, with a high ...</td>\n",
       "    </tr>\n",
       "    <tr>\n",
       "      <th>6</th>\n",
       "      <td>[[Saturday]]</td>\n",
       "      <td>[A chance of rain.  Partly sunny, with a high ...</td>\n",
       "    </tr>\n",
       "  </tbody>\n",
       "</table>\n",
       "</div>"
      ],
      "text/plain": [
       "             Day                                        Description\n",
       "0      [[Today]]  [Sunny, with a high near 62. West northwest wi...\n",
       "1     [[Monday]]  [Mostly cloudy, with a high near 58. Calm wind...\n",
       "2    [[Tuesday]]  [Mostly cloudy, with a high near 58. West wind...\n",
       "3  [[Wednesday]]               [Mostly sunny, with a high near 60.]\n",
       "4   [[Thursday]]  [A chance of rain after 10am.  Mostly cloudy, ...\n",
       "5     [[Friday]]  [A chance of rain.  Partly sunny, with a high ...\n",
       "6   [[Saturday]]  [A chance of rain.  Partly sunny, with a high ..."
      ]
     },
     "execution_count": 33,
     "metadata": {},
     "output_type": "execute_result"
    }
   ],
   "source": [
    "df"
   ]
  },
  {
   "cell_type": "code",
   "execution_count": null,
   "metadata": {},
   "outputs": [],
   "source": []
  }
 ],
 "metadata": {
  "kernelspec": {
   "display_name": "Python 3",
   "language": "python",
   "name": "python3"
  },
  "language_info": {
   "codemirror_mode": {
    "name": "ipython",
    "version": 3
   },
   "file_extension": ".py",
   "mimetype": "text/x-python",
   "name": "python",
   "nbconvert_exporter": "python",
   "pygments_lexer": "ipython3",
   "version": "3.8.5"
  }
 },
 "nbformat": 4,
 "nbformat_minor": 4
}
